{
  "nbformat": 4,
  "nbformat_minor": 0,
  "metadata": {
    "colab": {
      "provenance": [],
      "include_colab_link": true
    },
    "kernelspec": {
      "name": "python3",
      "display_name": "Python 3"
    },
    "language_info": {
      "name": "python"
    }
  },
  "cells": [
    {
      "cell_type": "markdown",
      "metadata": {
        "id": "view-in-github",
        "colab_type": "text"
      },
      "source": [
        "<a href=\"https://colab.research.google.com/github/belloncj/tone_financial_news/blob/main/EventStudies_Santana.ipynb\" target=\"_parent\"><img src=\"https://colab.research.google.com/assets/colab-badge.svg\" alt=\"Open In Colab\"/></a>"
      ]
    },
    {
      "cell_type": "code",
      "execution_count": null,
      "metadata": {
        "id": "1IkBbeM0Ffwq"
      },
      "outputs": [],
      "source": [
        "import pandas as pd\n",
        "import numpy as np\n",
        "import statsmodels.api as sm\n",
        "from datetime import datetime, timedelta\n",
        "from sklearn import linear_model\n",
        "\n",
        "import scipy.stats"
      ]
    },
    {
      "cell_type": "code",
      "source": [
        "from google.colab import drive\n",
        "drive.mount('/content/gdrive')"
      ],
      "metadata": {
        "colab": {
          "base_uri": "https://localhost:8080/"
        },
        "id": "2j2cAY6gMaF5",
        "outputId": "708a2736-55c9-42ce-e125-d3c8c3d3175d"
      },
      "execution_count": null,
      "outputs": [
        {
          "output_type": "stream",
          "name": "stdout",
          "text": [
            "Drive already mounted at /content/gdrive; to attempt to forcibly remount, call drive.mount(\"/content/gdrive\", force_remount=True).\n"
          ]
        }
      ]
    },
    {
      "cell_type": "code",
      "source": [
        "#Import economic data\n",
        "allPrices = pd.read_csv('/content/gdrive/MyDrive/TFG_BA/event_studies/data/exxon_stock.csv')\n",
        "factors = pd.read_csv('/content/gdrive/MyDrive/TFG_BA/event_studies/data/3_factors.csv')\n",
        "events = pd.read_csv('/content/gdrive/MyDrive/TFG_BA/event_studies/data/exxon_ft_title_outliers.csv')"
      ],
      "metadata": {
        "id": "dzXkvBBcF4NY"
      },
      "execution_count": null,
      "outputs": []
    },
    {
      "cell_type": "code",
      "source": [
        "allPrices = allPrices.dropna()\n",
        "factors = factors.dropna()\n",
        "events = events.dropna()"
      ],
      "metadata": {
        "id": "PjLjhr8mF4G6"
      },
      "execution_count": null,
      "outputs": []
    },
    {
      "cell_type": "code",
      "source": [
        "allPrices['Date'] = pd.to_datetime(allPrices['Date'])\n",
        "\n",
        "# Set the \"Date\" column as the index\n",
        "allPrices.set_index(allPrices['Date'].dt.strftime('%Y%m%d'), inplace=True)\n",
        "\n",
        "# Remove the \"Date\" column\n",
        "allPrices.drop(columns=['Date'], inplace=True)\n",
        "\n",
        "# Remove the first column (\"Unnamed: 0\")\n",
        "allPrices.drop(columns=['Unnamed: 0'], inplace=True)\n"
      ],
      "metadata": {
        "id": "j2zOtHVCUhnx"
      },
      "execution_count": null,
      "outputs": []
    },
    {
      "cell_type": "code",
      "source": [
        "# Calcular el retorno porcentual\n",
        "allPrices['Return'] = allPrices['Close'].pct_change()\n",
        "allPrices = allPrices.dropna()"
      ],
      "metadata": {
        "id": "BxAPne6Cc8FJ"
      },
      "execution_count": null,
      "outputs": []
    },
    {
      "cell_type": "code",
      "source": [
        "\n",
        "allPrices"
      ],
      "metadata": {
        "colab": {
          "base_uri": "https://localhost:8080/",
          "height": 455
        },
        "id": "DPh4c7YtWW_6",
        "outputId": "a425ea08-1bba-4c4b-8318-4ec88c21c1f0"
      },
      "execution_count": null,
      "outputs": [
        {
          "output_type": "execute_result",
          "data": {
            "text/plain": [
              "               Open       High        Low      Close  Adj Close    Volume  \\\n",
              "Date                                                                        \n",
              "20080103  93.860001  94.739998  93.510002  93.830002  53.735184  19160600   \n",
              "20080104  93.239998  94.360001  91.879997  92.080002  52.732998  24730900   \n",
              "20080107  92.500000  93.150002  90.250000  91.220001  52.240498  28937500   \n",
              "20080108  91.860001  92.050003  89.680000  90.050003  51.570442  21764500   \n",
              "20080109  90.110001  91.730003  89.500000  91.559998  52.435207  26198800   \n",
              "...             ...        ...        ...        ...        ...       ...   \n",
              "20171222  83.879997  84.019997  83.599998  83.970001  63.519855  10161400   \n",
              "20171226  83.959999  84.360001  83.900002  83.980003  63.527409   4777200   \n",
              "20171227  83.989998  84.099998  83.739998  83.900002  63.466904   7000600   \n",
              "20171228  83.980003  84.050003  83.800003  84.019997  63.557652   7495300   \n",
              "20171229  84.000000  84.199997  83.639999  83.639999  63.270210   8523400   \n",
              "\n",
              "            Return  \n",
              "Date                \n",
              "20080103  0.003422  \n",
              "20080104 -0.018651  \n",
              "20080107 -0.009340  \n",
              "20080108 -0.012826  \n",
              "20080109  0.016768  \n",
              "...            ...  \n",
              "20171222  0.001431  \n",
              "20171226  0.000119  \n",
              "20171227 -0.000953  \n",
              "20171228  0.001430  \n",
              "20171229 -0.004523  \n",
              "\n",
              "[2517 rows x 7 columns]"
            ],
            "text/html": [
              "\n",
              "  <div id=\"df-d705e318-57f9-4e2a-b8dd-e10ba046a6ab\">\n",
              "    <div class=\"colab-df-container\">\n",
              "      <div>\n",
              "<style scoped>\n",
              "    .dataframe tbody tr th:only-of-type {\n",
              "        vertical-align: middle;\n",
              "    }\n",
              "\n",
              "    .dataframe tbody tr th {\n",
              "        vertical-align: top;\n",
              "    }\n",
              "\n",
              "    .dataframe thead th {\n",
              "        text-align: right;\n",
              "    }\n",
              "</style>\n",
              "<table border=\"1\" class=\"dataframe\">\n",
              "  <thead>\n",
              "    <tr style=\"text-align: right;\">\n",
              "      <th></th>\n",
              "      <th>Open</th>\n",
              "      <th>High</th>\n",
              "      <th>Low</th>\n",
              "      <th>Close</th>\n",
              "      <th>Adj Close</th>\n",
              "      <th>Volume</th>\n",
              "      <th>Return</th>\n",
              "    </tr>\n",
              "    <tr>\n",
              "      <th>Date</th>\n",
              "      <th></th>\n",
              "      <th></th>\n",
              "      <th></th>\n",
              "      <th></th>\n",
              "      <th></th>\n",
              "      <th></th>\n",
              "      <th></th>\n",
              "    </tr>\n",
              "  </thead>\n",
              "  <tbody>\n",
              "    <tr>\n",
              "      <th>20080103</th>\n",
              "      <td>93.860001</td>\n",
              "      <td>94.739998</td>\n",
              "      <td>93.510002</td>\n",
              "      <td>93.830002</td>\n",
              "      <td>53.735184</td>\n",
              "      <td>19160600</td>\n",
              "      <td>0.003422</td>\n",
              "    </tr>\n",
              "    <tr>\n",
              "      <th>20080104</th>\n",
              "      <td>93.239998</td>\n",
              "      <td>94.360001</td>\n",
              "      <td>91.879997</td>\n",
              "      <td>92.080002</td>\n",
              "      <td>52.732998</td>\n",
              "      <td>24730900</td>\n",
              "      <td>-0.018651</td>\n",
              "    </tr>\n",
              "    <tr>\n",
              "      <th>20080107</th>\n",
              "      <td>92.500000</td>\n",
              "      <td>93.150002</td>\n",
              "      <td>90.250000</td>\n",
              "      <td>91.220001</td>\n",
              "      <td>52.240498</td>\n",
              "      <td>28937500</td>\n",
              "      <td>-0.009340</td>\n",
              "    </tr>\n",
              "    <tr>\n",
              "      <th>20080108</th>\n",
              "      <td>91.860001</td>\n",
              "      <td>92.050003</td>\n",
              "      <td>89.680000</td>\n",
              "      <td>90.050003</td>\n",
              "      <td>51.570442</td>\n",
              "      <td>21764500</td>\n",
              "      <td>-0.012826</td>\n",
              "    </tr>\n",
              "    <tr>\n",
              "      <th>20080109</th>\n",
              "      <td>90.110001</td>\n",
              "      <td>91.730003</td>\n",
              "      <td>89.500000</td>\n",
              "      <td>91.559998</td>\n",
              "      <td>52.435207</td>\n",
              "      <td>26198800</td>\n",
              "      <td>0.016768</td>\n",
              "    </tr>\n",
              "    <tr>\n",
              "      <th>...</th>\n",
              "      <td>...</td>\n",
              "      <td>...</td>\n",
              "      <td>...</td>\n",
              "      <td>...</td>\n",
              "      <td>...</td>\n",
              "      <td>...</td>\n",
              "      <td>...</td>\n",
              "    </tr>\n",
              "    <tr>\n",
              "      <th>20171222</th>\n",
              "      <td>83.879997</td>\n",
              "      <td>84.019997</td>\n",
              "      <td>83.599998</td>\n",
              "      <td>83.970001</td>\n",
              "      <td>63.519855</td>\n",
              "      <td>10161400</td>\n",
              "      <td>0.001431</td>\n",
              "    </tr>\n",
              "    <tr>\n",
              "      <th>20171226</th>\n",
              "      <td>83.959999</td>\n",
              "      <td>84.360001</td>\n",
              "      <td>83.900002</td>\n",
              "      <td>83.980003</td>\n",
              "      <td>63.527409</td>\n",
              "      <td>4777200</td>\n",
              "      <td>0.000119</td>\n",
              "    </tr>\n",
              "    <tr>\n",
              "      <th>20171227</th>\n",
              "      <td>83.989998</td>\n",
              "      <td>84.099998</td>\n",
              "      <td>83.739998</td>\n",
              "      <td>83.900002</td>\n",
              "      <td>63.466904</td>\n",
              "      <td>7000600</td>\n",
              "      <td>-0.000953</td>\n",
              "    </tr>\n",
              "    <tr>\n",
              "      <th>20171228</th>\n",
              "      <td>83.980003</td>\n",
              "      <td>84.050003</td>\n",
              "      <td>83.800003</td>\n",
              "      <td>84.019997</td>\n",
              "      <td>63.557652</td>\n",
              "      <td>7495300</td>\n",
              "      <td>0.001430</td>\n",
              "    </tr>\n",
              "    <tr>\n",
              "      <th>20171229</th>\n",
              "      <td>84.000000</td>\n",
              "      <td>84.199997</td>\n",
              "      <td>83.639999</td>\n",
              "      <td>83.639999</td>\n",
              "      <td>63.270210</td>\n",
              "      <td>8523400</td>\n",
              "      <td>-0.004523</td>\n",
              "    </tr>\n",
              "  </tbody>\n",
              "</table>\n",
              "<p>2517 rows × 7 columns</p>\n",
              "</div>\n",
              "      <button class=\"colab-df-convert\" onclick=\"convertToInteractive('df-d705e318-57f9-4e2a-b8dd-e10ba046a6ab')\"\n",
              "              title=\"Convert this dataframe to an interactive table.\"\n",
              "              style=\"display:none;\">\n",
              "        \n",
              "  <svg xmlns=\"http://www.w3.org/2000/svg\" height=\"24px\"viewBox=\"0 0 24 24\"\n",
              "       width=\"24px\">\n",
              "    <path d=\"M0 0h24v24H0V0z\" fill=\"none\"/>\n",
              "    <path d=\"M18.56 5.44l.94 2.06.94-2.06 2.06-.94-2.06-.94-.94-2.06-.94 2.06-2.06.94zm-11 1L8.5 8.5l.94-2.06 2.06-.94-2.06-.94L8.5 2.5l-.94 2.06-2.06.94zm10 10l.94 2.06.94-2.06 2.06-.94-2.06-.94-.94-2.06-.94 2.06-2.06.94z\"/><path d=\"M17.41 7.96l-1.37-1.37c-.4-.4-.92-.59-1.43-.59-.52 0-1.04.2-1.43.59L10.3 9.45l-7.72 7.72c-.78.78-.78 2.05 0 2.83L4 21.41c.39.39.9.59 1.41.59.51 0 1.02-.2 1.41-.59l7.78-7.78 2.81-2.81c.8-.78.8-2.07 0-2.86zM5.41 20L4 18.59l7.72-7.72 1.47 1.35L5.41 20z\"/>\n",
              "  </svg>\n",
              "      </button>\n",
              "      \n",
              "  <style>\n",
              "    .colab-df-container {\n",
              "      display:flex;\n",
              "      flex-wrap:wrap;\n",
              "      gap: 12px;\n",
              "    }\n",
              "\n",
              "    .colab-df-convert {\n",
              "      background-color: #E8F0FE;\n",
              "      border: none;\n",
              "      border-radius: 50%;\n",
              "      cursor: pointer;\n",
              "      display: none;\n",
              "      fill: #1967D2;\n",
              "      height: 32px;\n",
              "      padding: 0 0 0 0;\n",
              "      width: 32px;\n",
              "    }\n",
              "\n",
              "    .colab-df-convert:hover {\n",
              "      background-color: #E2EBFA;\n",
              "      box-shadow: 0px 1px 2px rgba(60, 64, 67, 0.3), 0px 1px 3px 1px rgba(60, 64, 67, 0.15);\n",
              "      fill: #174EA6;\n",
              "    }\n",
              "\n",
              "    [theme=dark] .colab-df-convert {\n",
              "      background-color: #3B4455;\n",
              "      fill: #D2E3FC;\n",
              "    }\n",
              "\n",
              "    [theme=dark] .colab-df-convert:hover {\n",
              "      background-color: #434B5C;\n",
              "      box-shadow: 0px 1px 3px 1px rgba(0, 0, 0, 0.15);\n",
              "      filter: drop-shadow(0px 1px 2px rgba(0, 0, 0, 0.3));\n",
              "      fill: #FFFFFF;\n",
              "    }\n",
              "  </style>\n",
              "\n",
              "      <script>\n",
              "        const buttonEl =\n",
              "          document.querySelector('#df-d705e318-57f9-4e2a-b8dd-e10ba046a6ab button.colab-df-convert');\n",
              "        buttonEl.style.display =\n",
              "          google.colab.kernel.accessAllowed ? 'block' : 'none';\n",
              "\n",
              "        async function convertToInteractive(key) {\n",
              "          const element = document.querySelector('#df-d705e318-57f9-4e2a-b8dd-e10ba046a6ab');\n",
              "          const dataTable =\n",
              "            await google.colab.kernel.invokeFunction('convertToInteractive',\n",
              "                                                     [key], {});\n",
              "          if (!dataTable) return;\n",
              "\n",
              "          const docLinkHtml = 'Like what you see? Visit the ' +\n",
              "            '<a target=\"_blank\" href=https://colab.research.google.com/notebooks/data_table.ipynb>data table notebook</a>'\n",
              "            + ' to learn more about interactive tables.';\n",
              "          element.innerHTML = '';\n",
              "          dataTable['output_type'] = 'display_data';\n",
              "          await google.colab.output.renderOutput(dataTable, element);\n",
              "          const docLink = document.createElement('div');\n",
              "          docLink.innerHTML = docLinkHtml;\n",
              "          element.appendChild(docLink);\n",
              "        }\n",
              "      </script>\n",
              "    </div>\n",
              "  </div>\n",
              "  "
            ]
          },
          "metadata": {},
          "execution_count": 636
        }
      ]
    },
    {
      "cell_type": "code",
      "source": [
        "factors.rename(columns={'Unnamed: 0': 'Date'}, inplace=True)\n",
        "\n",
        "# separate RF\n",
        "rf=factors[['Date', 'RF']]\n",
        "rf=rf.set_index('Date')\n",
        "\n",
        "# Set the \"Date\" column as the index\n",
        "factors.set_index('Date', inplace=True)\n",
        "\n",
        "factors.drop('RF',axis=1)\n",
        "factors['Constant']=1\n",
        "factors = factors[['Constant','Mkt-RF', 'SMB', 'HML']]"
      ],
      "metadata": {
        "id": "R9zqr5x6Tp9f"
      },
      "execution_count": null,
      "outputs": []
    },
    {
      "cell_type": "code",
      "source": [
        "factors = factors.loc['20080103':'20230201']"
      ],
      "metadata": {
        "id": "1cU6TT4BfHfV"
      },
      "execution_count": null,
      "outputs": []
    },
    {
      "cell_type": "code",
      "source": [
        "factors"
      ],
      "metadata": {
        "colab": {
          "base_uri": "https://localhost:8080/",
          "height": 455
        },
        "id": "y_H0SP_MF4I3",
        "outputId": "5f45d546-278e-49fa-a01e-fbefe8683287"
      },
      "execution_count": null,
      "outputs": [
        {
          "output_type": "execute_result",
          "data": {
            "text/plain": [
              "          Constant  Mkt-RF   SMB   HML\n",
              "Date                                  \n",
              "20080103         1   -0.14 -1.01 -0.41\n",
              "20080104         1   -2.56 -0.48  0.05\n",
              "20080107         1    0.16  0.12  0.18\n",
              "20080108         1   -1.81 -0.43 -0.94\n",
              "20080109         1    1.10 -0.33 -0.66\n",
              "...            ...     ...   ...   ...\n",
              "20230126         1    1.08 -0.58  0.01\n",
              "20230127         1    0.36  0.62 -1.16\n",
              "20230130         1   -1.38 -0.10  0.72\n",
              "20230131         1    1.58  0.99 -0.06\n",
              "20230201         1    1.19  1.01 -1.67\n",
              "\n",
              "[3797 rows x 4 columns]"
            ],
            "text/html": [
              "\n",
              "  <div id=\"df-906f501f-3aea-4e45-8da0-50cc649ac5b5\">\n",
              "    <div class=\"colab-df-container\">\n",
              "      <div>\n",
              "<style scoped>\n",
              "    .dataframe tbody tr th:only-of-type {\n",
              "        vertical-align: middle;\n",
              "    }\n",
              "\n",
              "    .dataframe tbody tr th {\n",
              "        vertical-align: top;\n",
              "    }\n",
              "\n",
              "    .dataframe thead th {\n",
              "        text-align: right;\n",
              "    }\n",
              "</style>\n",
              "<table border=\"1\" class=\"dataframe\">\n",
              "  <thead>\n",
              "    <tr style=\"text-align: right;\">\n",
              "      <th></th>\n",
              "      <th>Constant</th>\n",
              "      <th>Mkt-RF</th>\n",
              "      <th>SMB</th>\n",
              "      <th>HML</th>\n",
              "    </tr>\n",
              "    <tr>\n",
              "      <th>Date</th>\n",
              "      <th></th>\n",
              "      <th></th>\n",
              "      <th></th>\n",
              "      <th></th>\n",
              "    </tr>\n",
              "  </thead>\n",
              "  <tbody>\n",
              "    <tr>\n",
              "      <th>20080103</th>\n",
              "      <td>1</td>\n",
              "      <td>-0.14</td>\n",
              "      <td>-1.01</td>\n",
              "      <td>-0.41</td>\n",
              "    </tr>\n",
              "    <tr>\n",
              "      <th>20080104</th>\n",
              "      <td>1</td>\n",
              "      <td>-2.56</td>\n",
              "      <td>-0.48</td>\n",
              "      <td>0.05</td>\n",
              "    </tr>\n",
              "    <tr>\n",
              "      <th>20080107</th>\n",
              "      <td>1</td>\n",
              "      <td>0.16</td>\n",
              "      <td>0.12</td>\n",
              "      <td>0.18</td>\n",
              "    </tr>\n",
              "    <tr>\n",
              "      <th>20080108</th>\n",
              "      <td>1</td>\n",
              "      <td>-1.81</td>\n",
              "      <td>-0.43</td>\n",
              "      <td>-0.94</td>\n",
              "    </tr>\n",
              "    <tr>\n",
              "      <th>20080109</th>\n",
              "      <td>1</td>\n",
              "      <td>1.10</td>\n",
              "      <td>-0.33</td>\n",
              "      <td>-0.66</td>\n",
              "    </tr>\n",
              "    <tr>\n",
              "      <th>...</th>\n",
              "      <td>...</td>\n",
              "      <td>...</td>\n",
              "      <td>...</td>\n",
              "      <td>...</td>\n",
              "    </tr>\n",
              "    <tr>\n",
              "      <th>20230126</th>\n",
              "      <td>1</td>\n",
              "      <td>1.08</td>\n",
              "      <td>-0.58</td>\n",
              "      <td>0.01</td>\n",
              "    </tr>\n",
              "    <tr>\n",
              "      <th>20230127</th>\n",
              "      <td>1</td>\n",
              "      <td>0.36</td>\n",
              "      <td>0.62</td>\n",
              "      <td>-1.16</td>\n",
              "    </tr>\n",
              "    <tr>\n",
              "      <th>20230130</th>\n",
              "      <td>1</td>\n",
              "      <td>-1.38</td>\n",
              "      <td>-0.10</td>\n",
              "      <td>0.72</td>\n",
              "    </tr>\n",
              "    <tr>\n",
              "      <th>20230131</th>\n",
              "      <td>1</td>\n",
              "      <td>1.58</td>\n",
              "      <td>0.99</td>\n",
              "      <td>-0.06</td>\n",
              "    </tr>\n",
              "    <tr>\n",
              "      <th>20230201</th>\n",
              "      <td>1</td>\n",
              "      <td>1.19</td>\n",
              "      <td>1.01</td>\n",
              "      <td>-1.67</td>\n",
              "    </tr>\n",
              "  </tbody>\n",
              "</table>\n",
              "<p>3797 rows × 4 columns</p>\n",
              "</div>\n",
              "      <button class=\"colab-df-convert\" onclick=\"convertToInteractive('df-906f501f-3aea-4e45-8da0-50cc649ac5b5')\"\n",
              "              title=\"Convert this dataframe to an interactive table.\"\n",
              "              style=\"display:none;\">\n",
              "        \n",
              "  <svg xmlns=\"http://www.w3.org/2000/svg\" height=\"24px\"viewBox=\"0 0 24 24\"\n",
              "       width=\"24px\">\n",
              "    <path d=\"M0 0h24v24H0V0z\" fill=\"none\"/>\n",
              "    <path d=\"M18.56 5.44l.94 2.06.94-2.06 2.06-.94-2.06-.94-.94-2.06-.94 2.06-2.06.94zm-11 1L8.5 8.5l.94-2.06 2.06-.94-2.06-.94L8.5 2.5l-.94 2.06-2.06.94zm10 10l.94 2.06.94-2.06 2.06-.94-2.06-.94-.94-2.06-.94 2.06-2.06.94z\"/><path d=\"M17.41 7.96l-1.37-1.37c-.4-.4-.92-.59-1.43-.59-.52 0-1.04.2-1.43.59L10.3 9.45l-7.72 7.72c-.78.78-.78 2.05 0 2.83L4 21.41c.39.39.9.59 1.41.59.51 0 1.02-.2 1.41-.59l7.78-7.78 2.81-2.81c.8-.78.8-2.07 0-2.86zM5.41 20L4 18.59l7.72-7.72 1.47 1.35L5.41 20z\"/>\n",
              "  </svg>\n",
              "      </button>\n",
              "      \n",
              "  <style>\n",
              "    .colab-df-container {\n",
              "      display:flex;\n",
              "      flex-wrap:wrap;\n",
              "      gap: 12px;\n",
              "    }\n",
              "\n",
              "    .colab-df-convert {\n",
              "      background-color: #E8F0FE;\n",
              "      border: none;\n",
              "      border-radius: 50%;\n",
              "      cursor: pointer;\n",
              "      display: none;\n",
              "      fill: #1967D2;\n",
              "      height: 32px;\n",
              "      padding: 0 0 0 0;\n",
              "      width: 32px;\n",
              "    }\n",
              "\n",
              "    .colab-df-convert:hover {\n",
              "      background-color: #E2EBFA;\n",
              "      box-shadow: 0px 1px 2px rgba(60, 64, 67, 0.3), 0px 1px 3px 1px rgba(60, 64, 67, 0.15);\n",
              "      fill: #174EA6;\n",
              "    }\n",
              "\n",
              "    [theme=dark] .colab-df-convert {\n",
              "      background-color: #3B4455;\n",
              "      fill: #D2E3FC;\n",
              "    }\n",
              "\n",
              "    [theme=dark] .colab-df-convert:hover {\n",
              "      background-color: #434B5C;\n",
              "      box-shadow: 0px 1px 3px 1px rgba(0, 0, 0, 0.15);\n",
              "      filter: drop-shadow(0px 1px 2px rgba(0, 0, 0, 0.3));\n",
              "      fill: #FFFFFF;\n",
              "    }\n",
              "  </style>\n",
              "\n",
              "      <script>\n",
              "        const buttonEl =\n",
              "          document.querySelector('#df-906f501f-3aea-4e45-8da0-50cc649ac5b5 button.colab-df-convert');\n",
              "        buttonEl.style.display =\n",
              "          google.colab.kernel.accessAllowed ? 'block' : 'none';\n",
              "\n",
              "        async function convertToInteractive(key) {\n",
              "          const element = document.querySelector('#df-906f501f-3aea-4e45-8da0-50cc649ac5b5');\n",
              "          const dataTable =\n",
              "            await google.colab.kernel.invokeFunction('convertToInteractive',\n",
              "                                                     [key], {});\n",
              "          if (!dataTable) return;\n",
              "\n",
              "          const docLinkHtml = 'Like what you see? Visit the ' +\n",
              "            '<a target=\"_blank\" href=https://colab.research.google.com/notebooks/data_table.ipynb>data table notebook</a>'\n",
              "            + ' to learn more about interactive tables.';\n",
              "          element.innerHTML = '';\n",
              "          dataTable['output_type'] = 'display_data';\n",
              "          await google.colab.output.renderOutput(dataTable, element);\n",
              "          const docLink = document.createElement('div');\n",
              "          docLink.innerHTML = docLinkHtml;\n",
              "          element.appendChild(docLink);\n",
              "        }\n",
              "      </script>\n",
              "    </div>\n",
              "  </div>\n",
              "  "
            ]
          },
          "metadata": {},
          "execution_count": 639
        }
      ]
    },
    {
      "cell_type": "code",
      "source": [
        "events['Date'] = pd.to_datetime(events['Date'])\n",
        "\n",
        "# Set the \"Date\" column as the index\n",
        "events.set_index(events['Date'].dt.strftime('%Y%m%d'), inplace=True)\n",
        "\n",
        "# Remove the \"Date\" column\n",
        "events.drop(columns=['Date'], inplace=True)\n",
        "\n",
        "# Remove the first column (\"Unnamed: 0\")\n",
        "events.drop(columns=['Unnamed: 0'], inplace=True)\n"
      ],
      "metadata": {
        "id": "8YySgA2zF3_I"
      },
      "execution_count": null,
      "outputs": []
    },
    {
      "cell_type": "code",
      "source": [
        "events"
      ],
      "metadata": {
        "colab": {
          "base_uri": "https://localhost:8080/",
          "height": 455
        },
        "id": "st-jj-5wF4En",
        "outputId": "5fe7602e-ca9b-4851-9cf9-28fdafd8ec26"
      },
      "execution_count": null,
      "outputs": [
        {
          "output_type": "execute_result",
          "data": {
            "text/plain": [
              "          total_sentiment major_sent\n",
              "Date                                \n",
              "20080113         0.723505   positive\n",
              "20080114        -0.012526   negative\n",
              "20080124         0.713877   positive\n",
              "20080205        -0.081316   negative\n",
              "20080213         0.788888   positive\n",
              "...                   ...        ...\n",
              "20171027        -0.950349   negative\n",
              "20171109        -0.021314   negative\n",
              "20171115        -0.867476   negative\n",
              "20171214        -0.910538   negative\n",
              "20171218         0.863918   positive\n",
              "\n",
              "[326 rows x 2 columns]"
            ],
            "text/html": [
              "\n",
              "  <div id=\"df-1cd53791-3265-458d-b606-aaf975adeb79\">\n",
              "    <div class=\"colab-df-container\">\n",
              "      <div>\n",
              "<style scoped>\n",
              "    .dataframe tbody tr th:only-of-type {\n",
              "        vertical-align: middle;\n",
              "    }\n",
              "\n",
              "    .dataframe tbody tr th {\n",
              "        vertical-align: top;\n",
              "    }\n",
              "\n",
              "    .dataframe thead th {\n",
              "        text-align: right;\n",
              "    }\n",
              "</style>\n",
              "<table border=\"1\" class=\"dataframe\">\n",
              "  <thead>\n",
              "    <tr style=\"text-align: right;\">\n",
              "      <th></th>\n",
              "      <th>total_sentiment</th>\n",
              "      <th>major_sent</th>\n",
              "    </tr>\n",
              "    <tr>\n",
              "      <th>Date</th>\n",
              "      <th></th>\n",
              "      <th></th>\n",
              "    </tr>\n",
              "  </thead>\n",
              "  <tbody>\n",
              "    <tr>\n",
              "      <th>20080113</th>\n",
              "      <td>0.723505</td>\n",
              "      <td>positive</td>\n",
              "    </tr>\n",
              "    <tr>\n",
              "      <th>20080114</th>\n",
              "      <td>-0.012526</td>\n",
              "      <td>negative</td>\n",
              "    </tr>\n",
              "    <tr>\n",
              "      <th>20080124</th>\n",
              "      <td>0.713877</td>\n",
              "      <td>positive</td>\n",
              "    </tr>\n",
              "    <tr>\n",
              "      <th>20080205</th>\n",
              "      <td>-0.081316</td>\n",
              "      <td>negative</td>\n",
              "    </tr>\n",
              "    <tr>\n",
              "      <th>20080213</th>\n",
              "      <td>0.788888</td>\n",
              "      <td>positive</td>\n",
              "    </tr>\n",
              "    <tr>\n",
              "      <th>...</th>\n",
              "      <td>...</td>\n",
              "      <td>...</td>\n",
              "    </tr>\n",
              "    <tr>\n",
              "      <th>20171027</th>\n",
              "      <td>-0.950349</td>\n",
              "      <td>negative</td>\n",
              "    </tr>\n",
              "    <tr>\n",
              "      <th>20171109</th>\n",
              "      <td>-0.021314</td>\n",
              "      <td>negative</td>\n",
              "    </tr>\n",
              "    <tr>\n",
              "      <th>20171115</th>\n",
              "      <td>-0.867476</td>\n",
              "      <td>negative</td>\n",
              "    </tr>\n",
              "    <tr>\n",
              "      <th>20171214</th>\n",
              "      <td>-0.910538</td>\n",
              "      <td>negative</td>\n",
              "    </tr>\n",
              "    <tr>\n",
              "      <th>20171218</th>\n",
              "      <td>0.863918</td>\n",
              "      <td>positive</td>\n",
              "    </tr>\n",
              "  </tbody>\n",
              "</table>\n",
              "<p>326 rows × 2 columns</p>\n",
              "</div>\n",
              "      <button class=\"colab-df-convert\" onclick=\"convertToInteractive('df-1cd53791-3265-458d-b606-aaf975adeb79')\"\n",
              "              title=\"Convert this dataframe to an interactive table.\"\n",
              "              style=\"display:none;\">\n",
              "        \n",
              "  <svg xmlns=\"http://www.w3.org/2000/svg\" height=\"24px\"viewBox=\"0 0 24 24\"\n",
              "       width=\"24px\">\n",
              "    <path d=\"M0 0h24v24H0V0z\" fill=\"none\"/>\n",
              "    <path d=\"M18.56 5.44l.94 2.06.94-2.06 2.06-.94-2.06-.94-.94-2.06-.94 2.06-2.06.94zm-11 1L8.5 8.5l.94-2.06 2.06-.94-2.06-.94L8.5 2.5l-.94 2.06-2.06.94zm10 10l.94 2.06.94-2.06 2.06-.94-2.06-.94-.94-2.06-.94 2.06-2.06.94z\"/><path d=\"M17.41 7.96l-1.37-1.37c-.4-.4-.92-.59-1.43-.59-.52 0-1.04.2-1.43.59L10.3 9.45l-7.72 7.72c-.78.78-.78 2.05 0 2.83L4 21.41c.39.39.9.59 1.41.59.51 0 1.02-.2 1.41-.59l7.78-7.78 2.81-2.81c.8-.78.8-2.07 0-2.86zM5.41 20L4 18.59l7.72-7.72 1.47 1.35L5.41 20z\"/>\n",
              "  </svg>\n",
              "      </button>\n",
              "      \n",
              "  <style>\n",
              "    .colab-df-container {\n",
              "      display:flex;\n",
              "      flex-wrap:wrap;\n",
              "      gap: 12px;\n",
              "    }\n",
              "\n",
              "    .colab-df-convert {\n",
              "      background-color: #E8F0FE;\n",
              "      border: none;\n",
              "      border-radius: 50%;\n",
              "      cursor: pointer;\n",
              "      display: none;\n",
              "      fill: #1967D2;\n",
              "      height: 32px;\n",
              "      padding: 0 0 0 0;\n",
              "      width: 32px;\n",
              "    }\n",
              "\n",
              "    .colab-df-convert:hover {\n",
              "      background-color: #E2EBFA;\n",
              "      box-shadow: 0px 1px 2px rgba(60, 64, 67, 0.3), 0px 1px 3px 1px rgba(60, 64, 67, 0.15);\n",
              "      fill: #174EA6;\n",
              "    }\n",
              "\n",
              "    [theme=dark] .colab-df-convert {\n",
              "      background-color: #3B4455;\n",
              "      fill: #D2E3FC;\n",
              "    }\n",
              "\n",
              "    [theme=dark] .colab-df-convert:hover {\n",
              "      background-color: #434B5C;\n",
              "      box-shadow: 0px 1px 3px 1px rgba(0, 0, 0, 0.15);\n",
              "      filter: drop-shadow(0px 1px 2px rgba(0, 0, 0, 0.3));\n",
              "      fill: #FFFFFF;\n",
              "    }\n",
              "  </style>\n",
              "\n",
              "      <script>\n",
              "        const buttonEl =\n",
              "          document.querySelector('#df-1cd53791-3265-458d-b606-aaf975adeb79 button.colab-df-convert');\n",
              "        buttonEl.style.display =\n",
              "          google.colab.kernel.accessAllowed ? 'block' : 'none';\n",
              "\n",
              "        async function convertToInteractive(key) {\n",
              "          const element = document.querySelector('#df-1cd53791-3265-458d-b606-aaf975adeb79');\n",
              "          const dataTable =\n",
              "            await google.colab.kernel.invokeFunction('convertToInteractive',\n",
              "                                                     [key], {});\n",
              "          if (!dataTable) return;\n",
              "\n",
              "          const docLinkHtml = 'Like what you see? Visit the ' +\n",
              "            '<a target=\"_blank\" href=https://colab.research.google.com/notebooks/data_table.ipynb>data table notebook</a>'\n",
              "            + ' to learn more about interactive tables.';\n",
              "          element.innerHTML = '';\n",
              "          dataTable['output_type'] = 'display_data';\n",
              "          await google.colab.output.renderOutput(dataTable, element);\n",
              "          const docLink = document.createElement('div');\n",
              "          docLink.innerHTML = docLinkHtml;\n",
              "          element.appendChild(docLink);\n",
              "        }\n",
              "      </script>\n",
              "    </div>\n",
              "  </div>\n",
              "  "
            ]
          },
          "metadata": {},
          "execution_count": 641
        }
      ]
    },
    {
      "cell_type": "markdown",
      "source": [
        "# Regression"
      ],
      "metadata": {
        "id": "qiOc0RMzXPdU"
      }
    },
    {
      "cell_type": "code",
      "source": [
        "w=factors.loc['20201001':'20201030']"
      ],
      "metadata": {
        "id": "HB8Imt2JF38c"
      },
      "execution_count": null,
      "outputs": []
    },
    {
      "cell_type": "code",
      "source": [
        "oneYear = timedelta(366)\n",
        "oneDay = timedelta(1)"
      ],
      "metadata": {
        "id": "-jfpuR1rF3lI"
      },
      "execution_count": null,
      "outputs": []
    },
    {
      "cell_type": "code",
      "source": [
        "date = '20171027'"
      ],
      "metadata": {
        "id": "Qwpt9yXMaVPQ"
      },
      "execution_count": null,
      "outputs": []
    },
    {
      "cell_type": "code",
      "source": [
        "#In order to select indexes as expected:\n",
        "#    1. Get news' date and pass it to type datetime\n",
        "#    2. Subtract 1 year + 1 day to get lower limit. Then, pass it to yyyymmdd string format\n",
        "#    3. Subtract 1 day to get upper limit. Then, pass it to yyyymmdd string format\n",
        "#    4. Transform date to yyyymmdd to get final Rf y Ri (for the statistic)\n",
        "#Loop would start here\n",
        "\n",
        "event = datetime.strptime(date, '%Y%m%d')#.strftime('%Y%m%d')\n",
        "in_low = (event-oneYear).strftime('%Y%m%d')\n",
        "in_high = (event-oneDay).strftime('%Y%m%d')\n",
        "event_day = event.strftime('%Y%m%d')"
      ],
      "metadata": {
        "id": "o8FrbNf9XcG7"
      },
      "execution_count": null,
      "outputs": []
    },
    {
      "cell_type": "code",
      "source": [
        "in_low"
      ],
      "metadata": {
        "colab": {
          "base_uri": "https://localhost:8080/",
          "height": 36
        },
        "id": "X5XKvvkwazPi",
        "outputId": "dd27e19c-3407-4af0-c79f-fd9856582e0b"
      },
      "execution_count": null,
      "outputs": [
        {
          "output_type": "execute_result",
          "data": {
            "text/plain": [
              "'20161026'"
            ],
            "application/vnd.google.colaboratory.intrinsic+json": {
              "type": "string"
            }
          },
          "metadata": {},
          "execution_count": 646
        }
      ]
    },
    {
      "cell_type": "code",
      "source": [
        "in_high"
      ],
      "metadata": {
        "colab": {
          "base_uri": "https://localhost:8080/",
          "height": 36
        },
        "id": "TWN9z3Uyfrdp",
        "outputId": "87ee1778-504e-4e93-edc0-8422de09ed81"
      },
      "execution_count": null,
      "outputs": [
        {
          "output_type": "execute_result",
          "data": {
            "text/plain": [
              "'20171026'"
            ],
            "application/vnd.google.colaboratory.intrinsic+json": {
              "type": "string"
            }
          },
          "metadata": {},
          "execution_count": 647
        }
      ]
    },
    {
      "cell_type": "code",
      "source": [
        "allPrices.loc[in_low:in_high]['Return']"
      ],
      "metadata": {
        "colab": {
          "base_uri": "https://localhost:8080/"
        },
        "id": "jmJ2POsFf3k_",
        "outputId": "63a868de-2f11-4a9a-8b7b-d6489acd5443"
      },
      "execution_count": null,
      "outputs": [
        {
          "output_type": "execute_result",
          "data": {
            "text/plain": [
              "Date\n",
              "20161026    0.004267\n",
              "20161027   -0.001952\n",
              "20161028   -0.024620\n",
              "20161031   -0.017221\n",
              "20161101    0.003961\n",
              "              ...   \n",
              "20171020    0.004472\n",
              "20171023    0.001564\n",
              "20171024    0.002763\n",
              "20171025   -0.003594\n",
              "20171026    0.003607\n",
              "Name: Return, Length: 253, dtype: float64"
            ]
          },
          "metadata": {},
          "execution_count": 648
        }
      ]
    },
    {
      "cell_type": "code",
      "source": [
        "y = np.asarray(allPrices['Return'][in_low:in_high]) #Ri\n",
        "x = factors.loc[in_low:in_high].to_numpy()"
      ],
      "metadata": {
        "id": "Oca6fEVoabpp"
      },
      "execution_count": null,
      "outputs": []
    },
    {
      "cell_type": "code",
      "source": [
        "x.shape"
      ],
      "metadata": {
        "colab": {
          "base_uri": "https://localhost:8080/"
        },
        "id": "ZIe0qZU5eWQM",
        "outputId": "be655171-5599-4752-e89a-3c0fae74bbe1"
      },
      "execution_count": null,
      "outputs": [
        {
          "output_type": "execute_result",
          "data": {
            "text/plain": [
              "(253, 4)"
            ]
          },
          "metadata": {},
          "execution_count": 650
        }
      ]
    },
    {
      "cell_type": "code",
      "source": [
        "y.shape"
      ],
      "metadata": {
        "colab": {
          "base_uri": "https://localhost:8080/"
        },
        "id": "9ND120lgeXaK",
        "outputId": "d6100a2f-a883-4105-85e3-495b6bb3d123"
      },
      "execution_count": null,
      "outputs": [
        {
          "output_type": "execute_result",
          "data": {
            "text/plain": [
              "(253,)"
            ]
          },
          "metadata": {},
          "execution_count": 651
        }
      ]
    },
    {
      "cell_type": "code",
      "source": [
        "from sklearn import linear_model\n",
        "\n",
        "# Prepare the input and output variables\n",
        "x = factors[['Constant', 'Mkt-RF', 'SMB', 'HML']].loc[in_low:in_high]\n",
        "y = allPrices['Return'][in_low:in_high]\n",
        "\n",
        "# Create and fit the OLS model\n",
        "model = linear_model.LinearRegression()\n",
        "model.fit(x, y)\n",
        "\n",
        "# Extract the coefficients and intercept\n",
        "a = model.intercept_\n",
        "b = model.coef_[0]\n",
        "s = model.coef_[1]\n",
        "h = model.coef_[2]"
      ],
      "metadata": {
        "id": "_yLog6fI8RjR"
      },
      "execution_count": null,
      "outputs": []
    },
    {
      "cell_type": "code",
      "source": [
        "ERi=a+b*factors['Mkt-RF'][event_day]+s*factors['SMB'][event_day]+h*factors['HML'][event_day]+rf['RF'][event_day]\n",
        "ERi"
      ],
      "metadata": {
        "colab": {
          "base_uri": "https://localhost:8080/"
        },
        "id": "q9zkvtY9hORV",
        "outputId": "fbb3a8f9-be05-44cc-bfb0-391faea42183"
      },
      "execution_count": null,
      "outputs": [
        {
          "output_type": "execute_result",
          "data": {
            "text/plain": [
              "0.006792402599462982"
            ]
          },
          "metadata": {},
          "execution_count": 653
        }
      ]
    },
    {
      "cell_type": "code",
      "source": [
        "ERi_tot=a+b*factors['Mkt-RF'][in_low:in_high]+s*factors['SMB'][in_low:in_high]+h*factors['HML'][in_low:in_high]+rf['RF'][in_low:in_high]\n",
        "Ri_tot=allPrices['Return'][in_low:in_high]"
      ],
      "metadata": {
        "id": "e2_JIGCYSwJ4"
      },
      "execution_count": null,
      "outputs": []
    },
    {
      "cell_type": "code",
      "source": [
        "abnormal_R = Ri_tot-ERi_tot.dropna()\n",
        "print(abnormal_R)\n",
        "day_number = Ri_tot.shape[0]"
      ],
      "metadata": {
        "colab": {
          "base_uri": "https://localhost:8080/"
        },
        "id": "B5AVfTKITDbX",
        "outputId": "1dad38d0-1384-4108-ec88-838e4f84a9ac"
      },
      "execution_count": null,
      "outputs": [
        {
          "output_type": "stream",
          "name": "stdout",
          "text": [
            "Date\n",
            "20161026    0.012765\n",
            "20161027    0.006759\n",
            "20161028   -0.023687\n",
            "20161031   -0.017538\n",
            "20161101    0.007053\n",
            "              ...   \n",
            "20171020    0.002873\n",
            "20171023    0.002118\n",
            "20171024    0.002754\n",
            "20171025   -0.006435\n",
            "20171026    0.001157\n",
            "Length: 253, dtype: float64\n"
          ]
        }
      ]
    },
    {
      "cell_type": "code",
      "source": [
        "sigma = np.sqrt(sum((Ri_tot-ERi_tot.dropna())**2)/(day_number - 2)) #Esto es el estimador\n",
        "sigma_2 = np.sqrt(day_number * sigma**2)\n",
        "\n",
        "print(sigma_2)"
      ],
      "metadata": {
        "colab": {
          "base_uri": "https://localhost:8080/"
        },
        "id": "-1543ZRATL0W",
        "outputId": "d704914e-1542-47e2-fc70-67989dc50b9c"
      },
      "execution_count": null,
      "outputs": [
        {
          "output_type": "stream",
          "name": "stdout",
          "text": [
            "0.15674353700861587\n"
          ]
        }
      ]
    },
    {
      "cell_type": "code",
      "source": [],
      "metadata": {
        "id": "mBVrLx1Qle3c"
      },
      "execution_count": null,
      "outputs": []
    },
    {
      "cell_type": "code",
      "source": [
        "def get_correct_date(dicc, date):\n",
        "    try:\n",
        "        x = dicc[date]\n",
        "        return x\n",
        "    except:\n",
        "        event = datetime.strptime(date, '%Y%m%d')\n",
        "        return get_correct_date(dicc, (event+oneDay).strftime('%Y%m%d'))"
      ],
      "metadata": {
        "id": "9yjgzE8Fq6GE"
      },
      "execution_count": null,
      "outputs": []
    },
    {
      "cell_type": "code",
      "source": [
        "ERi_hoy=a+b*get_correct_date(factors['Mkt-RF'], date)+s*get_correct_date(factors['SMB'], date)+h*get_correct_date(factors['HML'], date)+get_correct_date(rf['RF'], date)\n",
        "Ri_hoy=get_correct_date(allPrices['Return'], date)\n",
        "abnormal_hoy = Ri_hoy - ERi_hoy\n",
        "\n",
        "abnormal_ayer = abnormal_R[in_high]"
      ],
      "metadata": {
        "id": "WlaJGIJPSma8"
      },
      "execution_count": null,
      "outputs": []
    },
    {
      "cell_type": "code",
      "source": [
        "abnormal_ayer"
      ],
      "metadata": {
        "colab": {
          "base_uri": "https://localhost:8080/"
        },
        "id": "gSEg7s8ZMUn8",
        "outputId": "2012e3ee-d60e-4dce-d62c-9cc7eef66390"
      },
      "execution_count": null,
      "outputs": [
        {
          "output_type": "execute_result",
          "data": {
            "text/plain": [
              "0.0011573619001372182"
            ]
          },
          "metadata": {},
          "execution_count": 659
        }
      ]
    },
    {
      "cell_type": "code",
      "source": [
        "ERi_mean = ERi_tot.dropna().mean()\n",
        "est=(abnormal_hoy-abnormal_ayer)/sigma\n",
        "\n",
        "#print([Ri, sigma, est])\n",
        "stats = scipy.stats.norm(0,sigma_2).cdf(est)"
      ],
      "metadata": {
        "id": "fT3Zkh5ijFZl"
      },
      "execution_count": null,
      "outputs": []
    },
    {
      "cell_type": "code",
      "source": [
        "stats"
      ],
      "metadata": {
        "colab": {
          "base_uri": "https://localhost:8080/"
        },
        "id": "UxD_ZXL2ufHH",
        "outputId": "7d17f402-c096-46f5-96ea-c2f3f781fd70"
      },
      "execution_count": null,
      "outputs": [
        {
          "output_type": "execute_result",
          "data": {
            "text/plain": [
              "0.0005093735988299696"
            ]
          },
          "metadata": {},
          "execution_count": 661
        }
      ]
    },
    {
      "cell_type": "markdown",
      "source": [
        "# Resultados"
      ],
      "metadata": {
        "id": "AkVZTbd56Edy"
      }
    },
    {
      "cell_type": "markdown",
      "source": [
        "## funcion estadístico"
      ],
      "metadata": {
        "id": "0zbgBZPHqG3f"
      }
    },
    {
      "cell_type": "code",
      "source": [
        "def extract_stadistics(date):\n",
        "    event = datetime.strptime(date, '%Y%m%d')#.strftime('%Y%m%d')\n",
        "    in_low = (event-oneYear).strftime('%Y%m%d')\n",
        "    in_high = (event-oneDay).strftime('%Y%m%d')\n",
        "    event_day = event.strftime('%Y%m%d')\n",
        "\n",
        "    y = np.asarray(allPrices['Return'][in_low:in_high]) #Ri\n",
        "    x = factors.loc[in_low:in_high].to_numpy()\n",
        "\n",
        "    try:\n",
        "        # Create and fit the OLS model\n",
        "        model = linear_model.LinearRegression()\n",
        "        model.fit(x, y)\n",
        "    except:\n",
        "        return None\n",
        "\n",
        "    # Extract the coefficients and intercept\n",
        "    a = model.intercept_\n",
        "    b = model.coef_[0]\n",
        "    s = model.coef_[1]\n",
        "    h = model.coef_[2]\n",
        "\n",
        "\n",
        "    ERi_tot=a+b*factors['Mkt-RF'][in_low:in_high]+s*factors['SMB'][in_low:in_high]+h*factors['HML'][in_low:in_high]+rf['RF'][in_low:in_high]\n",
        "    Ri_tot=allPrices['Return'][in_low:in_high]\n",
        "\n",
        "    abnormal_R = Ri_tot-ERi_tot.dropna()\n",
        "\n",
        "    day_number = Ri_tot.shape[0]\n",
        "\n",
        "    sigma = np.sqrt(sum((Ri_tot-ERi_tot.dropna())**2)/(day_number - 2)) #Esto es el estimador\n",
        "    sigma_2 = np.sqrt(day_number * sigma**2)\n",
        "\n",
        "    ERi_hoy=a+b*get_correct_date(factors['Mkt-RF'], date)+s*get_correct_date(factors['SMB'], date)+h*get_correct_date(factors['HML'], date)+get_correct_date(rf['RF'], date)\n",
        "    Ri_hoy=get_correct_date(allPrices['Return'], date)\n",
        "    abnormal_hoy = Ri_hoy - ERi_hoy\n",
        "\n",
        "    abnormal_ayer = abnormal_R[-1]\n",
        "\n",
        "\n",
        "    ERi_mean = ERi_tot.dropna().mean()\n",
        "    est=(abnormal_hoy-abnormal_ayer)/sigma\n",
        "\n",
        "    #print([Ri, sigma, est])\n",
        "    stats = scipy.stats.norm(0,sigma_2).cdf(est)\n",
        "    return stats\n"
      ],
      "metadata": {
        "id": "FKptHWq86Gke"
      },
      "execution_count": null,
      "outputs": []
    },
    {
      "cell_type": "code",
      "source": [
        "extract_stadistics('20171027')"
      ],
      "metadata": {
        "colab": {
          "base_uri": "https://localhost:8080/"
        },
        "id": "JV6EH_HHREYb",
        "outputId": "212b4c3b-0ea8-46a1-e4a2-ea3d7e057b12"
      },
      "execution_count": null,
      "outputs": [
        {
          "output_type": "execute_result",
          "data": {
            "text/plain": [
              "0.0005093735988299696"
            ]
          },
          "metadata": {},
          "execution_count": 663
        }
      ]
    },
    {
      "cell_type": "code",
      "source": [
        "events_ft_all = pd.read_csv('/content/gdrive/MyDrive/TFG_BA/event_studies/data/outliers_exxon_ft_all.csv')\n",
        "events_ft_filter = pd.read_csv('/content/gdrive/MyDrive/TFG_BA/event_studies/data/outliers_exxon_ft_filtered.csv')\n",
        "events_wsj_all = pd.read_csv('/content/gdrive/MyDrive/TFG_BA/event_studies/data/outliers_exxon_wsj_all.csv')\n",
        "events_wsj_filter = pd.read_csv('/content/gdrive/MyDrive/TFG_BA/event_studies/data/outliers_exxon_wsj_filtered.csv')"
      ],
      "metadata": {
        "id": "NEZY0Loku1f_"
      },
      "execution_count": null,
      "outputs": []
    },
    {
      "cell_type": "markdown",
      "source": [
        "## Funcion show dates"
      ],
      "metadata": {
        "id": "ON_0H-Ib48t8"
      }
    },
    {
      "cell_type": "code",
      "source": [
        "def calculate_important_events(dff):\n",
        "    df=dff.copy()\n",
        "    df['Date'] = pd.to_datetime(df['Date'])\n",
        "\n",
        "    # Set the \"Date\" column as the index\n",
        "    df.set_index(df['Date'].dt.strftime('%Y%m%d'), inplace=True)\n",
        "\n",
        "    # Remove the \"Date\" column\n",
        "    df.drop(columns=['Date'], inplace=True)\n",
        "\n",
        "    # Remove the first column (\"Unnamed: 0\")\n",
        "    df.drop(columns=['Unnamed: 0'], inplace=True)\n",
        "\n",
        "    # Convert 'Date' to datetime if it's not already\n",
        "    df.index = pd.to_datetime(df.index)\n",
        "\n",
        "    # Filter events after 2008\n",
        "    df = df[df.index.year > 2008]\n",
        "    #df = df[df.index.year < 2018]\n",
        "\n",
        "    mod_events=df\n",
        "\n",
        "    # Now you can iterate over your filtered events and calculate statistics\n",
        "    important_events = []\n",
        "    for index, row in df.iterrows():\n",
        "        statistics = extract_stadistics(index.strftime('%Y%m%d'))\n",
        "\n",
        "        if statistics is not None:\n",
        "            # Process the statistics or perform any desired actions\n",
        "            # based on the result for each event\n",
        "            if(statistics<=0.05):\n",
        "                print(f\"Statistics for date {index.strftime('%Y%m%d')}: {statistics}\")\n",
        "                important_events.append(index.strftime('%Y%m%d'))\n",
        "        else:\n",
        "            # Handle cases where the statistics cannot be calculated\n",
        "            print(f\"Statistics for date {index.strftime('%Y%m%d')} could not be calculated.\")\n",
        "\n",
        "    # Print the lengths of the filtered lists\n",
        "    print(\"\\n\\n\")\n",
        "    print(f\"Number of important events after 2008: {len(important_events)}\")\n",
        "    print(f\"Total number of events after 2008: {len(df)}\")\n",
        "\n",
        "    # Return the list of important events and the total number of events\n",
        "    return important_events, mod_events, len(important_events), len(df)\n",
        "\n"
      ],
      "metadata": {
        "id": "ThC5JjsE5BiZ"
      },
      "execution_count": null,
      "outputs": []
    },
    {
      "cell_type": "markdown",
      "source": [
        "# FT"
      ],
      "metadata": {
        "id": "FRWn8lD-8Xi2"
      }
    },
    {
      "cell_type": "markdown",
      "source": [
        "## events_ft_all"
      ],
      "metadata": {
        "id": "xXzn18Lq8HSM"
      }
    },
    {
      "cell_type": "code",
      "source": [
        "important_events_ft_all, mod_events_ft_all, len_important_events, total_events = calculate_important_events(events_ft_all)"
      ],
      "metadata": {
        "colab": {
          "base_uri": "https://localhost:8080/"
        },
        "id": "VD93L_Wh5foZ",
        "outputId": "a27a2e6f-3016-46bc-d960-6e9363a0a91f"
      },
      "execution_count": null,
      "outputs": [
        {
          "output_type": "stream",
          "name": "stdout",
          "text": [
            "Statistics for date 20090129: 0.0033288499694684097\n",
            "Statistics for date 20090227: 0.002632743972900761\n",
            "Statistics for date 20090511: 0.0007559495321629666\n",
            "Statistics for date 20091214: 2.866918106005522e-14\n",
            "Statistics for date 20100307: 0.0019850127469640245\n",
            "Statistics for date 20100311: 0.049951034791869714\n",
            "Statistics for date 20100523: 1.6677794910775697e-39\n",
            "Statistics for date 20100526: 2.820763623982352e-06\n",
            "Statistics for date 20100603: 1.9004613678348907e-13\n",
            "Statistics for date 20100609: 7.802386225655897e-138\n",
            "Statistics for date 20100729: 4.570872834425412e-12\n",
            "Statistics for date 20100830: 9.94293480740564e-12\n",
            "Statistics for date 20100907: 0.0009143386311119958\n",
            "Statistics for date 20100917: 3.869163287375544e-06\n",
            "Statistics for date 20100923: 0.0019196170949997164\n",
            "Statistics for date 20101022: 1.8076112252310856e-06\n",
            "Statistics for date 20101102: 1.338003299800723e-06\n",
            "Statistics for date 20101210: 0.01661568552377967\n",
            "Statistics for date 20110105: 1.9058417800193484e-22\n",
            "Statistics for date 20110315: 3.0671913781893725e-08\n",
            "Statistics for date 20110428: 0.00952055511992747\n",
            "Statistics for date 20110505: 1.5029400739230665e-23\n",
            "Statistics for date 20110511: 2.0865524505171433e-11\n",
            "Statistics for date 20110525: 9.80100501821138e-09\n",
            "Statistics for date 20110609: 2.289335457324984e-06\n",
            "Statistics for date 20110622: 0.0006046931427917045\n",
            "Statistics for date 20110704: 6.290254452563106e-20\n",
            "Statistics for date 20110727: 0.004064392074731667\n",
            "Statistics for date 20110802: 2.1908042240333236e-15\n",
            "Statistics for date 20110810: 9.434553067080618e-185\n",
            "Statistics for date 20110812: 9.43237091377435e-83\n",
            "Statistics for date 20110824: 9.540171541313243e-25\n",
            "Statistics for date 20110909: 1.0263982356599028e-09\n",
            "Statistics for date 20110922: 0.0028916481519904846\n",
            "Statistics for date 20111017: 9.055412011613657e-08\n",
            "Statistics for date 20111221: 0.04160152486126511\n",
            "Statistics for date 20120425: 0.004951386539936886\n",
            "Statistics for date 20120625: 0.018543457912961393\n",
            "Statistics for date 20120627: 0.013982953092539784\n",
            "Statistics for date 20120708: 0.008131375386840426\n",
            "Statistics for date 20120731: 9.216588631780392e-05\n",
            "Statistics for date 20120827: 6.420585403335327e-10\n",
            "Statistics for date 20121018: 0.0007770944109458666\n",
            "Statistics for date 20121102: 8.350123900437846e-13\n",
            "Statistics for date 20121129: 3.763309489994925e-13\n",
            "Statistics for date 20121203: 1.3075933811013055e-11\n",
            "Statistics for date 20121221: 8.364032267800278e-87\n",
            "Statistics for date 20130111: 1.2142290902035139e-18\n",
            "Statistics for date 20130318: 0.0007158918405467319\n",
            "Statistics for date 20130722: 3.479225176056605e-22\n",
            "Statistics for date 20130801: 2.0886054015284574e-12\n",
            "Statistics for date 20130824: 9.681533847418415e-42\n",
            "Statistics for date 20140917: 1.0624047711053929e-29\n",
            "Statistics for date 20140929: 1.0042081746851087e-44\n",
            "Statistics for date 20141029: 0.026051137611119875\n",
            "Statistics for date 20141112: 1.692810127114476e-22\n",
            "Statistics for date 20141216: 6.610905958630477e-14\n",
            "Statistics for date 20150120: 2.225121824565323e-09\n",
            "Statistics for date 20150928: 3.800443448029789e-15\n",
            "Statistics for date 20151112: 1.102875450385322e-05\n",
            "Statistics for date 20151207: 3.4936548850654366e-15\n",
            "Statistics for date 20160209: 6.029254103917995e-07\n",
            "Statistics for date 20160520: 1.6238979809980478e-08\n",
            "Statistics for date 20160729: 0.019467415618971636\n",
            "Statistics for date 20160801: 1.3912753406441108e-08\n",
            "Statistics for date 20161028: 3.649582001742748e-22\n",
            "Statistics for date 20170131: 5.784203610194009e-13\n",
            "Statistics for date 20170317: 0.003727129704329684\n",
            "Statistics for date 20170324: 0.0002501519739777442\n",
            "Statistics for date 20170611: 5.093396498581785e-15\n",
            "Statistics for date 20170728: 4.596928468949177e-42\n",
            "Statistics for date 20170821: 6.297707914916731e-05\n",
            "Statistics for date 20171115: 0.0005925422231134333\n",
            "Statistics for date 20171212: 0.0001640856801243859\n",
            "Statistics for date 20180115 could not be calculated.\n",
            "Statistics for date 20180131 could not be calculated.\n",
            "Statistics for date 20180313 could not be calculated.\n",
            "\n",
            "\n",
            "\n",
            "Number of important events after 2008: 74\n",
            "Total number of events after 2008: 185\n"
          ]
        }
      ]
    },
    {
      "cell_type": "markdown",
      "source": [
        "## events_ft_filter"
      ],
      "metadata": {
        "id": "ACXMiMkt8EgJ"
      }
    },
    {
      "cell_type": "code",
      "source": [
        "important_events_ft_filter, mod_events_ft_filter, len_important_events, total_events = calculate_important_events(events_ft_filter)"
      ],
      "metadata": {
        "colab": {
          "base_uri": "https://localhost:8080/"
        },
        "id": "4xduRuH96dFr",
        "outputId": "332e1cf3-90e5-490c-e4e7-d98ab8b40925"
      },
      "execution_count": null,
      "outputs": [
        {
          "output_type": "stream",
          "name": "stdout",
          "text": [
            "Statistics for date 20090129: 0.0033288499694684097\n",
            "Statistics for date 20090227: 0.002632743972900761\n",
            "Statistics for date 20090511: 0.0007559495321629666\n",
            "Statistics for date 20091214: 2.866918106005522e-14\n",
            "Statistics for date 20100307: 0.0019850127469640245\n",
            "Statistics for date 20100523: 1.6677794910775697e-39\n",
            "Statistics for date 20100526: 2.820763623982352e-06\n",
            "Statistics for date 20100603: 1.9004613678348907e-13\n",
            "Statistics for date 20100609: 7.802386225655897e-138\n",
            "Statistics for date 20100729: 4.570872834425412e-12\n",
            "Statistics for date 20100830: 9.94293480740564e-12\n",
            "Statistics for date 20100907: 0.0009143386311119958\n",
            "Statistics for date 20100917: 3.869163287375544e-06\n",
            "Statistics for date 20100923: 0.0019196170949997164\n",
            "Statistics for date 20101022: 1.8076112252310856e-06\n",
            "Statistics for date 20101102: 1.338003299800723e-06\n",
            "Statistics for date 20110105: 1.9058417800193484e-22\n",
            "Statistics for date 20110204: 0.021262864173003715\n",
            "Statistics for date 20110428: 0.00952055511992747\n",
            "Statistics for date 20110505: 1.5029400739230665e-23\n",
            "Statistics for date 20110511: 2.0865524505171433e-11\n",
            "Statistics for date 20110525: 9.80100501821138e-09\n",
            "Statistics for date 20110609: 2.289335457324984e-06\n",
            "Statistics for date 20110704: 6.290254452563106e-20\n",
            "Statistics for date 20110727: 0.004064392074731667\n",
            "Statistics for date 20110728: 1.4831665105061654e-23\n",
            "Statistics for date 20110802: 2.1908042240333236e-15\n",
            "Statistics for date 20110810: 9.434553067080618e-185\n",
            "Statistics for date 20110812: 9.43237091377435e-83\n",
            "Statistics for date 20110909: 1.0263982356599028e-09\n",
            "Statistics for date 20110922: 0.0028916481519904846\n",
            "Statistics for date 20111017: 9.055412011613657e-08\n",
            "Statistics for date 20111121: 0.0006503633049057177\n",
            "Statistics for date 20111221: 0.04160152486126511\n",
            "Statistics for date 20120104: 0.00030595550575333695\n",
            "Statistics for date 20120222: 0.0001249979439814131\n",
            "Statistics for date 20120306: 2.7826406948221334e-06\n",
            "Statistics for date 20120425: 0.004951386539936886\n",
            "Statistics for date 20120625: 0.018543457912961393\n",
            "Statistics for date 20120627: 0.013982953092539784\n",
            "Statistics for date 20120708: 0.008131375386840426\n",
            "Statistics for date 20120731: 9.216588631780392e-05\n",
            "Statistics for date 20120827: 6.420585403335327e-10\n",
            "Statistics for date 20121018: 0.0007770944109458666\n",
            "Statistics for date 20121102: 8.350123900437846e-13\n",
            "Statistics for date 20121129: 3.763309489994925e-13\n",
            "Statistics for date 20121203: 1.3075933811013055e-11\n",
            "Statistics for date 20121221: 8.364032267800278e-87\n",
            "Statistics for date 20130111: 1.2142290902035139e-18\n",
            "Statistics for date 20130318: 0.0007158918405467319\n",
            "Statistics for date 20130722: 3.479225176056605e-22\n",
            "Statistics for date 20130824: 9.681533847418415e-42\n",
            "Statistics for date 20140917: 1.0624047711053929e-29\n",
            "Statistics for date 20141029: 0.026051137611119875\n",
            "Statistics for date 20141112: 1.692810127114476e-22\n",
            "Statistics for date 20150120: 2.225121824565323e-09\n",
            "Statistics for date 20150928: 3.800443448029789e-15\n",
            "Statistics for date 20151207: 3.4936548850654366e-15\n",
            "Statistics for date 20160209: 6.029254103917995e-07\n",
            "Statistics for date 20160520: 1.6238979809980478e-08\n",
            "Statistics for date 20161028: 3.649582001742748e-22\n",
            "Statistics for date 20170317: 0.003727129704329684\n",
            "Statistics for date 20170324: 0.0002501519739777442\n",
            "Statistics for date 20170611: 5.093396498581785e-15\n",
            "Statistics for date 20170728: 4.596928468949177e-42\n",
            "Statistics for date 20170821: 6.297707914916731e-05\n",
            "Statistics for date 20170828: 1.570352660141855e-17\n",
            "Statistics for date 20171115: 0.0005925422231134333\n",
            "Statistics for date 20171212: 0.0001640856801243859\n",
            "Statistics for date 20180115 could not be calculated.\n",
            "Statistics for date 20180313 could not be calculated.\n",
            "\n",
            "\n",
            "\n",
            "Number of important events after 2008: 69\n",
            "Total number of events after 2008: 170\n"
          ]
        }
      ]
    },
    {
      "cell_type": "markdown",
      "source": [
        "# WSJ"
      ],
      "metadata": {
        "id": "LLAFsmgvwKb4"
      }
    },
    {
      "cell_type": "markdown",
      "source": [
        "## events_wsj_all"
      ],
      "metadata": {
        "id": "2bDBZC-O8Pyr"
      }
    },
    {
      "cell_type": "code",
      "source": [
        "important_events_wsj_all, mod_events_wsj_all, len_important_events, total_events = calculate_important_events(events_wsj_all)"
      ],
      "metadata": {
        "colab": {
          "base_uri": "https://localhost:8080/"
        },
        "id": "xV0XnZkS65Os",
        "outputId": "59afeefb-cd5b-4ecb-e7c7-82e8245a8161"
      },
      "execution_count": null,
      "outputs": [
        {
          "output_type": "stream",
          "name": "stdout",
          "text": [
            "Statistics for date 20090103: 0.03140962336624089\n",
            "Statistics for date 20090416: 0.048510983143913416\n",
            "Statistics for date 20090509: 0.000737196738800258\n",
            "Statistics for date 20090630: 0.04889631267652879\n",
            "Statistics for date 20091202: 0.003548206676956104\n",
            "Statistics for date 20100121: 0.004954383055788199\n",
            "Statistics for date 20100202: 0.010857263729336009\n",
            "Statistics for date 20100217: 4.0666813163772967e-10\n",
            "Statistics for date 20100320: 0.021423460350012285\n",
            "Statistics for date 20100330: 3.47683909011689e-09\n",
            "Statistics for date 20100410: 8.415701930882398e-08\n",
            "Statistics for date 20100426: 2.1322352431804288e-06\n",
            "Statistics for date 20100429: 3.6120223448092744e-28\n",
            "Statistics for date 20100604: 1.1948831143776625e-22\n",
            "Statistics for date 20100713: 1.759241726836535e-12\n",
            "Statistics for date 20100721: 1.1462905274090441e-05\n",
            "Statistics for date 20100803: 4.4964142171249945e-21\n",
            "Statistics for date 20101013: 0.0009081803732032839\n",
            "Statistics for date 20101116: 3.4699848304420925e-05\n",
            "Statistics for date 20101123: 0.005133581522081178\n",
            "Statistics for date 20101224: 0.026491338753623\n",
            "Statistics for date 20101229: 5.176557792980244e-07\n",
            "Statistics for date 20110115: 0.0002449404017475002\n",
            "Statistics for date 20110202: 2.517062033578692e-56\n",
            "Statistics for date 20110308: 0.02050611140062409\n",
            "Statistics for date 20110315: 3.0671913781893725e-08\n",
            "Statistics for date 20110425: 0.022627596228268605\n",
            "Statistics for date 20110601: 2.5149573303109335e-10\n",
            "Statistics for date 20110609: 2.289335457324984e-06\n",
            "Statistics for date 20110622: 0.0006046931427917045\n",
            "Statistics for date 20110702: 5.479168848472399e-20\n",
            "Statistics for date 20110709: 0.006125596403824219\n",
            "Statistics for date 20110716: 0.0023865024278984055\n",
            "Statistics for date 20110804: 1.7155697928042832e-68\n",
            "Statistics for date 20110808: 2.2781617469631523e-294\n",
            "Statistics for date 20110810: 9.434553067080618e-185\n",
            "Statistics for date 20110818: 3.888140127231896e-66\n",
            "Statistics for date 20110901: 3.316546038111465e-05\n",
            "Statistics for date 20110902: 1.4243805083728422e-07\n",
            "Statistics for date 20110922: 0.0028916481519904846\n",
            "Statistics for date 20111031: 1.455177688839025e-39\n",
            "Statistics for date 20111208: 1.1467420026043238e-08\n",
            "Statistics for date 20120331: 1.7729330227625514e-05\n",
            "Statistics for date 20120410: 0.0028500076299659573\n",
            "Statistics for date 20120413: 7.787539741234085e-10\n",
            "Statistics for date 20120426: 0.007708001878527003\n",
            "Statistics for date 20120607: 9.046806468406684e-11\n",
            "Statistics for date 20120628: 0.002732192203785008\n",
            "Statistics for date 20120821: 0.008386704912651421\n",
            "Statistics for date 20120921: 1.9109986975288233e-09\n",
            "Statistics for date 20121018: 0.0007770944109458666\n",
            "Statistics for date 20121102: 8.350123900437846e-13\n",
            "Statistics for date 20121129: 3.763309489994925e-13\n",
            "Statistics for date 20121208: 1.7817294147579125e-25\n",
            "Statistics for date 20130107: 8.9469382372184e-22\n",
            "Statistics for date 20130109: 7.075064743584906e-15\n",
            "Statistics for date 20130119: 0.006292911127023853\n",
            "Statistics for date 20130220: 7.246370571510515e-10\n",
            "Statistics for date 20130402: 1.0306782392187119e-10\n",
            "Statistics for date 20130809: 1.5934710861429012e-41\n",
            "Statistics for date 20131107: 4.26700302165876e-120\n",
            "Statistics for date 20131109: 0.002718367273138717\n",
            "Statistics for date 20131217: 7.197617943696297e-68\n",
            "Statistics for date 20140210: 2.1711773625905806e-64\n",
            "Statistics for date 20140313: 0.005269372132164439\n",
            "Statistics for date 20140318: 2.378480524312076e-24\n",
            "Statistics for date 20140711: 0.021716414259280604\n",
            "Statistics for date 20150304: 0.011358988073091825\n",
            "Statistics for date 20150408: 1.6750825140256263e-39\n",
            "Statistics for date 20150731: 2.4954518245704647e-76\n",
            "Statistics for date 20151024: 3.2255767244447943e-06\n",
            "Statistics for date 20160129: 1.0336193964844632e-06\n",
            "Statistics for date 20160701: 0.00038541819698672977\n",
            "Statistics for date 20160730: 4.456919913984882e-08\n",
            "Statistics for date 20160801: 1.3912753406441108e-08\n",
            "Statistics for date 20161213: 0.0032474081802915298\n",
            "Statistics for date 20161214: 1.2955283369435938e-37\n",
            "Statistics for date 20170118: 1.924260844813714e-27\n",
            "Statistics for date 20170307: 2.4913286097094114e-06\n",
            "Statistics for date 20170705: 8.030492832252005e-54\n",
            "\n",
            "\n",
            "\n",
            "Number of important events after 2008: 80\n",
            "Total number of events after 2008: 221\n"
          ]
        }
      ]
    },
    {
      "cell_type": "markdown",
      "source": [
        "## events_wsj_filter"
      ],
      "metadata": {
        "id": "Bu-Ek7BG8TLX"
      }
    },
    {
      "cell_type": "code",
      "source": [
        "important_events_wsj_filter, mod_events_wsj_filter, len_important_events, total_events = calculate_important_events(events_wsj_filter)"
      ],
      "metadata": {
        "colab": {
          "base_uri": "https://localhost:8080/"
        },
        "id": "EPW3U0Xz7DV9",
        "outputId": "a5bdd7cc-a1b3-4005-b040-34c13ee05b11"
      },
      "execution_count": null,
      "outputs": [
        {
          "output_type": "stream",
          "name": "stdout",
          "text": [
            "Statistics for date 20090416: 0.048510983143913416\n",
            "Statistics for date 20090509: 0.000737196738800258\n",
            "Statistics for date 20090630: 0.04889631267652879\n",
            "Statistics for date 20091028: 0.017979027905943704\n",
            "Statistics for date 20091202: 0.003548206676956104\n",
            "Statistics for date 20100112: 0.0015132672473565528\n",
            "Statistics for date 20100202: 0.010857263729336009\n",
            "Statistics for date 20100217: 4.0666813163772967e-10\n",
            "Statistics for date 20100421: 2.4800903227561334e-05\n",
            "Statistics for date 20100426: 2.1322352431804288e-06\n",
            "Statistics for date 20100429: 3.6120223448092744e-28\n",
            "Statistics for date 20100609: 7.802386225655897e-138\n",
            "Statistics for date 20100713: 1.759241726836535e-12\n",
            "Statistics for date 20100721: 1.1462905274090441e-05\n",
            "Statistics for date 20101013: 0.0009081803732032839\n",
            "Statistics for date 20101029: 5.471957961236888e-07\n",
            "Statistics for date 20101116: 3.4699848304420925e-05\n",
            "Statistics for date 20101123: 0.005133581522081178\n",
            "Statistics for date 20101224: 0.026491338753623\n",
            "Statistics for date 20101229: 5.176557792980244e-07\n",
            "Statistics for date 20110115: 0.0002449404017475002\n",
            "Statistics for date 20110308: 0.02050611140062409\n",
            "Statistics for date 20110315: 3.0671913781893725e-08\n",
            "Statistics for date 20110601: 2.5149573303109335e-10\n",
            "Statistics for date 20110609: 2.289335457324984e-06\n",
            "Statistics for date 20110622: 0.0006046931427917045\n",
            "Statistics for date 20110702: 5.479168848472399e-20\n",
            "Statistics for date 20110709: 0.006125596403824219\n",
            "Statistics for date 20110716: 0.0023865024278984055\n",
            "Statistics for date 20110804: 1.7155697928042832e-68\n",
            "Statistics for date 20110808: 2.2781617469631523e-294\n",
            "Statistics for date 20110818: 3.888140127231896e-66\n",
            "Statistics for date 20110901: 3.316546038111465e-05\n",
            "Statistics for date 20110902: 1.4243805083728422e-07\n",
            "Statistics for date 20110922: 0.0028916481519904846\n",
            "Statistics for date 20111031: 1.455177688839025e-39\n",
            "Statistics for date 20111208: 1.1467420026043238e-08\n",
            "Statistics for date 20120331: 1.7729330227625514e-05\n",
            "Statistics for date 20120410: 0.0028500076299659573\n",
            "Statistics for date 20120413: 7.787539741234085e-10\n",
            "Statistics for date 20120426: 0.007708001878527003\n",
            "Statistics for date 20120607: 9.046806468406684e-11\n",
            "Statistics for date 20120628: 0.002732192203785008\n",
            "Statistics for date 20120821: 0.008386704912651421\n",
            "Statistics for date 20120921: 1.9109986975288233e-09\n",
            "Statistics for date 20121005: 0.02236731167611959\n",
            "Statistics for date 20121102: 8.350123900437846e-13\n",
            "Statistics for date 20121129: 3.763309489994925e-13\n",
            "Statistics for date 20121208: 1.7817294147579125e-25\n",
            "Statistics for date 20130107: 8.9469382372184e-22\n",
            "Statistics for date 20130119: 0.006292911127023853\n",
            "Statistics for date 20130402: 1.0306782392187119e-10\n",
            "Statistics for date 20130809: 1.5934710861429012e-41\n",
            "Statistics for date 20131107: 4.26700302165876e-120\n",
            "Statistics for date 20131109: 0.002718367273138717\n",
            "Statistics for date 20131217: 7.197617943696297e-68\n",
            "Statistics for date 20140118: 4.683511817122523e-23\n",
            "Statistics for date 20140131: 0.0002221486936526564\n",
            "Statistics for date 20140313: 0.005269372132164439\n",
            "Statistics for date 20140318: 2.378480524312076e-24\n",
            "Statistics for date 20140429: 1.101394609277549e-05\n",
            "Statistics for date 20140711: 0.021716414259280604\n",
            "Statistics for date 20141015: 5.725984195372347e-14\n",
            "Statistics for date 20150304: 0.011358988073091825\n",
            "Statistics for date 20150408: 1.6750825140256263e-39\n",
            "Statistics for date 20150730: 2.8127664679731943e-09\n",
            "Statistics for date 20150731: 2.4954518245704647e-76\n",
            "Statistics for date 20151024: 3.2255767244447943e-06\n",
            "Statistics for date 20160129: 1.0336193964844632e-06\n",
            "Statistics for date 20160303: 2.0756231481436134e-05\n",
            "Statistics for date 20160701: 0.00038541819698672977\n",
            "Statistics for date 20160801: 1.3912753406441108e-08\n",
            "Statistics for date 20161213: 0.0032474081802915298\n",
            "Statistics for date 20161214: 1.2955283369435938e-37\n",
            "Statistics for date 20170118: 1.924260844813714e-27\n",
            "Statistics for date 20170307: 2.4913286097094114e-06\n",
            "Statistics for date 20170705: 8.030492832252005e-54\n",
            "\n",
            "\n",
            "\n",
            "Number of important events after 2008: 77\n",
            "Total number of events after 2008: 203\n"
          ]
        }
      ]
    },
    {
      "cell_type": "markdown",
      "source": [
        "# Diferencia significativa entre grupos Pos y Neg:\n"
      ],
      "metadata": {
        "id": "bFVk3FPZuGj0"
      }
    },
    {
      "cell_type": "markdown",
      "source": [
        "Prueba solo con eventos"
      ],
      "metadata": {
        "id": "A8E4F8Cf1lUr"
      }
    },
    {
      "cell_type": "code",
      "source": [
        "# Iterate over each row in the events dataframe\n",
        "important_events = []\n",
        "for index, row in events.iterrows():\n",
        "    statistics = extract_stadistics(index)\n",
        "\n",
        "    if statistics is not None:\n",
        "        # Process the statistics or perform any desired actions\n",
        "        # based on the result for each event\n",
        "        if(statistics<=0.05):\n",
        "          print(f\"Statistics for date {index}: {statistics}\")\n",
        "          important_events.append(index)\n",
        "    else:\n",
        "        # Handle cases where the statistics cannot be calculated\n",
        "        print(f\"Statistics for date {index} could not be calculated.\")\n"
      ],
      "metadata": {
        "colab": {
          "base_uri": "https://localhost:8080/"
        },
        "id": "pcfBSZWxDnks",
        "outputId": "148954b1-33d0-46e4-be82-bbfc1d62f824"
      },
      "execution_count": null,
      "outputs": [
        {
          "output_type": "stream",
          "name": "stdout",
          "text": [
            "Statistics for date 20080205: 6.306519430353961e-42\n",
            "Statistics for date 20080213: 0.00011699390422603637\n",
            "Statistics for date 20080319: 2.8797687351573113e-108\n",
            "Statistics for date 20080427: 0.021585172916189735\n",
            "Statistics for date 20080501: 5.244891753551835e-49\n",
            "Statistics for date 20080606: 1.5172021595925442e-68\n",
            "Statistics for date 20080619: 7.024730393215072e-09\n",
            "Statistics for date 20080701: 1.0774297396124781e-06\n",
            "Statistics for date 20080707: 1.3474407055616672e-20\n",
            "Statistics for date 20080728: 0.00010785196980911143\n",
            "Statistics for date 20080731: 4.7059561128827614e-79\n",
            "Statistics for date 20080817: 1.2832189557239642e-05\n",
            "Statistics for date 20080915: 1.0620064329511736e-65\n",
            "Statistics for date 20081007: 2.4925260126147915e-06\n",
            "Statistics for date 20081009: 5.190126364682559e-33\n",
            "Statistics for date 20081105: 2.1685754786015843e-09\n",
            "Statistics for date 20081130: 6.046084759367008e-05\n",
            "Statistics for date 20090129: 0.0033288499694684097\n",
            "Statistics for date 20090311: 0.0004590057662161247\n",
            "Statistics for date 20090330: 0.01294623646911663\n",
            "Statistics for date 20090511: 0.0007559495321629666\n",
            "Statistics for date 20091030: 2.7653237696115484e-05\n",
            "Statistics for date 20091127: 7.166516965807674e-05\n",
            "Statistics for date 20091202: 0.003548206676956104\n",
            "Statistics for date 20091214: 2.866918106005522e-14\n",
            "Statistics for date 20100307: 0.0019850127469640245\n",
            "Statistics for date 20100330: 3.47683909011689e-09\n",
            "Statistics for date 20100429: 3.6120223448092744e-28\n",
            "Statistics for date 20100520: 1.274687407416417e-34\n",
            "Statistics for date 20100526: 2.820763623982352e-06\n",
            "Statistics for date 20100622: 1.2153143655024799e-14\n",
            "Statistics for date 20100729: 4.570872834425412e-12\n",
            "Statistics for date 20100818: 3.289009821295232e-10\n",
            "Statistics for date 20100902: 4.66508926402677e-19\n",
            "Statistics for date 20100912: 6.276219171939987e-08\n",
            "Statistics for date 20100917: 3.869163287375544e-06\n",
            "Statistics for date 20100929: 4.4885164829241524e-08\n",
            "Statistics for date 20101029: 5.471957961236888e-07\n",
            "Statistics for date 20101119: 1.0049854993429422e-06\n",
            "Statistics for date 20101126: 1.1392404493407239e-12\n",
            "Statistics for date 20110117: 0.0002516901097996688\n",
            "Statistics for date 20110215: 2.435805027603952e-49\n",
            "Statistics for date 20110310: 3.0406112889031012e-30\n",
            "Statistics for date 20110315: 3.0671913781893725e-08\n",
            "Statistics for date 20110331: 1.2962679914726041e-14\n",
            "Statistics for date 20110428: 0.00952055511992747\n",
            "Statistics for date 20110511: 2.0865524505171433e-11\n",
            "Statistics for date 20110525: 9.80100501821138e-09\n",
            "Statistics for date 20110622: 0.0006046931427917045\n",
            "Statistics for date 20110727: 0.004064392074731667\n",
            "Statistics for date 20110728: 1.4831665105061654e-23\n",
            "Statistics for date 20110804: 1.7155697928042832e-68\n",
            "Statistics for date 20110808: 2.2781617469631523e-294\n",
            "Statistics for date 20110810: 9.434553067080618e-185\n",
            "Statistics for date 20110830: 2.8189247220214327e-10\n",
            "Statistics for date 20110905: 0.0020199848855636375\n",
            "Statistics for date 20110922: 0.0028916481519904846\n",
            "Statistics for date 20111013: 3.592208103250584e-17\n",
            "Statistics for date 20111017: 9.055412011613657e-08\n",
            "Statistics for date 20111027: 1.1474246513058552e-07\n",
            "Statistics for date 20111111: 0.0013569478416812178\n",
            "Statistics for date 20111214: 5.5397865253335293e-11\n",
            "Statistics for date 20111221: 0.04160152486126511\n",
            "Statistics for date 20120306: 2.7826406948221334e-06\n",
            "Statistics for date 20120426: 0.007708001878527003\n",
            "Statistics for date 20120627: 0.013982953092539784\n",
            "Statistics for date 20120708: 0.008131375386840426\n",
            "Statistics for date 20120727: 4.2853525496447485e-08\n",
            "Statistics for date 20120815: 2.537189037399024e-07\n",
            "Statistics for date 20120827: 6.420585403335327e-10\n",
            "Statistics for date 20121102: 8.350123900437846e-13\n",
            "Statistics for date 20121129: 3.763309489994925e-13\n",
            "Statistics for date 20121203: 1.3075933811013055e-11\n",
            "Statistics for date 20130122: 0.0065459844916849926\n",
            "Statistics for date 20130204: 2.5657856825523968e-09\n",
            "Statistics for date 20130317: 0.0007114916978151329\n",
            "Statistics for date 20130515: 1.7358078609980228e-06\n",
            "Statistics for date 20130710: 3.7217251151814534e-51\n",
            "Statistics for date 20130722: 3.479225176056605e-22\n",
            "Statistics for date 20130929: 3.1744901760669897e-19\n",
            "Statistics for date 20131118: 3.4455952575410984e-27\n",
            "Statistics for date 20131119: 0.0010927877164956597\n",
            "Statistics for date 20140130: 2.383637301229038e-25\n",
            "Statistics for date 20140508: 2.3747331808320183e-17\n",
            "Statistics for date 20141204: 0.00018595827178822892\n",
            "Statistics for date 20141208: 0.003095957269105747\n",
            "Statistics for date 20141216: 6.610905958630477e-14\n",
            "Statistics for date 20141231: 3.5086641583473835e-07\n",
            "Statistics for date 20150120: 2.225121824565323e-09\n",
            "Statistics for date 20150215: 3.2045070600445147e-06\n",
            "Statistics for date 20150731: 2.4954518245704647e-76\n",
            "Statistics for date 20150819: 6.209095635035925e-09\n",
            "Statistics for date 20151019: 1.6951462517652945e-20\n",
            "Statistics for date 20151117: 1.7456909976207072e-35\n",
            "Statistics for date 20151208: 1.4447570486090346e-05\n",
            "Statistics for date 20160204: 2.3487985104356686e-15\n",
            "Statistics for date 20160308: 9.315280341269588e-08\n",
            "Statistics for date 20160407: 2.5788748617992287e-06\n",
            "Statistics for date 20160729: 0.019467415618971636\n",
            "Statistics for date 20160801: 1.3912753406441108e-08\n",
            "Statistics for date 20160913: 1.841596077370654e-15\n",
            "Statistics for date 20161028: 3.649582001742748e-22\n",
            "Statistics for date 20161108: 1.9860710110946367e-12\n",
            "Statistics for date 20170131: 5.784203610194009e-13\n",
            "Statistics for date 20170324: 0.0002501519739777442\n",
            "Statistics for date 20170728: 4.596928468949177e-42\n",
            "Statistics for date 20170821: 6.297707914916731e-05\n",
            "Statistics for date 20171027: 0.0005093735988299696\n",
            "Statistics for date 20171115: 0.0005925422231134333\n",
            "Statistics for date 20171218: 0.01544110709645787\n"
          ]
        }
      ]
    },
    {
      "cell_type": "code",
      "source": [
        "len(important_events)"
      ],
      "metadata": {
        "colab": {
          "base_uri": "https://localhost:8080/"
        },
        "id": "oQkSwDwJE6iW",
        "outputId": "66084e2d-e11b-4bb1-f4d6-082a85755399"
      },
      "execution_count": null,
      "outputs": [
        {
          "output_type": "execute_result",
          "data": {
            "text/plain": [
              "110"
            ]
          },
          "metadata": {},
          "execution_count": 671
        }
      ]
    },
    {
      "cell_type": "markdown",
      "source": [
        "### funcion analyze events"
      ],
      "metadata": {
        "id": "XMceDejsDwJR"
      }
    },
    {
      "cell_type": "code",
      "source": [
        "import pandas as pd\n",
        "import scipy.stats\n",
        "\n",
        "def analyze_events(df_events):\n",
        "    # Convert the index to string format\n",
        "    df_events.index = df_events.index.strftime('%Y%m%d')\n",
        "\n",
        "    # Merge the tables based on the \"Date\" column\n",
        "    merged_table = pd.concat([df_events, factors, allPrices, rf], axis=1, join='inner')\n",
        "\n",
        "    # Calculate the excess return\n",
        "    merged_table['Excess_Return'] = merged_table['Return'] - merged_table['RF'] / 100\n",
        "\n",
        "    # Calculate the cumulative excess return\n",
        "    merged_table['Cumulative_Excess_Return'] = merged_table.groupby('major_sent')['Excess_Return'].cumsum()\n",
        "\n",
        "    # Calculate the average excess return for positive and negative events\n",
        "    positive_events_avg = merged_table[merged_table['major_sent'] == 'positive']['Excess_Return'].mean()\n",
        "    negative_events_avg = merged_table[merged_table['major_sent'] == 'negative']['Excess_Return'].mean()\n",
        "\n",
        "    # Perform statistical tests\n",
        "    t_statistic, p_value = scipy.stats.ttest_ind(\n",
        "        merged_table[merged_table['major_sent'] == 'positive']['Excess_Return'],\n",
        "        merged_table[merged_table['major_sent'] == 'negative']['Excess_Return']\n",
        "    )\n",
        "\n",
        "    # Print the results\n",
        "    print(\"Average Excess Return for Positive Events:\", positive_events_avg)\n",
        "    print(\"Average Excess Return for Negative Events:\", negative_events_avg)\n",
        "    print(\"T-Statistic:\", t_statistic)\n",
        "    print(\"P-Value:\", p_value)\n"
      ],
      "metadata": {
        "id": "SSPdPaZIDOgH"
      },
      "execution_count": null,
      "outputs": []
    },
    {
      "cell_type": "code",
      "source": [
        "analyze_events(mod_events_ft_all)"
      ],
      "metadata": {
        "colab": {
          "base_uri": "https://localhost:8080/"
        },
        "id": "B9DGqdgxD010",
        "outputId": "813150d9-3ddb-4f8b-8be9-e7f8ea7a91f7"
      },
      "execution_count": null,
      "outputs": [
        {
          "output_type": "stream",
          "name": "stdout",
          "text": [
            "Average Excess Return for Positive Events: 0.00022998595417323322\n",
            "Average Excess Return for Negative Events: -0.00538348668355442\n",
            "T-Statistic: 2.411889070766085\n",
            "P-Value: 0.016980811554952242\n"
          ]
        }
      ]
    },
    {
      "cell_type": "code",
      "source": [
        "analyze_events(events)"
      ],
      "metadata": {
        "colab": {
          "base_uri": "https://localhost:8080/"
        },
        "id": "ri9REDdoEJxu",
        "outputId": "6d3351a0-074b-4fff-a7cd-a647ab7e71e6"
      },
      "execution_count": null,
      "outputs": [
        {
          "output_type": "stream",
          "name": "stdout",
          "text": [
            "Average Excess Return for Positive Events: 0.004377080682320948\n",
            "Average Excess Return for Negative Events: -0.006023832174808543\n",
            "T-Statistic: 4.213335006859334\n",
            "P-Value: 3.3732768629916294e-05\n"
          ]
        }
      ]
    },
    {
      "cell_type": "markdown",
      "source": [
        "H0 no hay, H1 hay diferencia significativa. Por t-tes rechazamos H0."
      ],
      "metadata": {
        "id": "ct4Tjov98qAQ"
      }
    },
    {
      "cell_type": "markdown",
      "source": [
        "## Cumulative return"
      ],
      "metadata": {
        "id": "bihz26tmyn3H"
      }
    },
    {
      "cell_type": "code",
      "source": [
        "# Merge the tables based on the \"Date\" column\n",
        "merged_table = events.merge(factors, on='Date').merge(allPrices, on='Date').merge(rf, on='Date')\n",
        "\n",
        "# Calculate the excess return\n",
        "merged_table['Excess_Return'] = merged_table['Return'] - merged_table['RF']/100\n",
        "\n",
        "# Calculate the cumulative excess return\n",
        "merged_table['Cumulative_Excess_Return'] = merged_table.groupby('major_sent')['Excess_Return'].cumsum()\n",
        "\n",
        "# Calculate the average excess return for positive and negative events\n",
        "positive_events_avg = merged_table[merged_table['major_sent'] == 'positive']['Cumulative_Excess_Return'].mean()\n",
        "negative_events_avg = merged_table[merged_table['major_sent'] == 'negative']['Cumulative_Excess_Return'].mean()\n",
        "\n",
        "# Perform statistical tests\n",
        "t_statistic, p_value = scipy.stats.ttest_ind(merged_table[merged_table['major_sent'] == 'positive']['Cumulative_Excess_Return'],\n",
        "                                      merged_table[merged_table['major_sent'] == 'negative']['Cumulative_Excess_Return'])\n",
        "\n",
        "# Print the results\n",
        "print(\"Average Excess Return for Positive Events:\", positive_events_avg)\n",
        "print(\"Average Excess Return for Negative Events:\", negative_events_avg)\n",
        "print(\"T-Statistic:\", t_statistic)\n",
        "print(\"P-Value:\", p_value)"
      ],
      "metadata": {
        "id": "w_ccriqzHEp1"
      },
      "execution_count": null,
      "outputs": []
    },
    {
      "cell_type": "code",
      "source": [],
      "metadata": {
        "id": "llLhIKeHysp9"
      },
      "execution_count": null,
      "outputs": []
    }
  ]
}